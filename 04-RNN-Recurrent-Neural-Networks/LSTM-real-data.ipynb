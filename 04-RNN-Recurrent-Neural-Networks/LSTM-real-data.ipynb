{
 "cells": [
  {
   "cell_type": "code",
   "execution_count": 1,
   "metadata": {},
   "outputs": [
    {
     "data": {
      "text/plain": [
       "<function pandas.plotting._misc.register()>"
      ]
     },
     "execution_count": 1,
     "metadata": {},
     "output_type": "execute_result"
    }
   ],
   "source": [
    "import torch\n",
    "import torch.nn as nn\n",
    "\n",
    "import numpy as np\n",
    "import pandas as pd\n",
    "import matplotlib.pyplot as plt\n",
    "\n",
    "from pandas.plotting import register_matplotlib_converters\n",
    "register_matplotlib_converters"
   ]
  },
  {
   "cell_type": "code",
   "execution_count": 2,
   "metadata": {},
   "outputs": [
    {
     "name": "stdout",
     "output_type": "stream",
     "text": [
      "You are using: NVIDIA GeForce RTX 3080\n"
     ]
    }
   ],
   "source": [
    "if torch.cuda.is_available():\n",
    "    use_CUDA = True\n",
    "    print(f\"You are using: {torch.cuda.get_device_name()}\")\n",
    "else:\n",
    "    use_CUDA = False\n",
    "    print(f\"You are using: CPU\")"
   ]
  },
  {
   "cell_type": "code",
   "execution_count": 3,
   "metadata": {},
   "outputs": [],
   "source": [
    "df = pd.read_csv(\"../Data/TimeSeriesData/Alcohol_Sales.csv\", index_col=0, parse_dates=True)"
   ]
  },
  {
   "cell_type": "code",
   "execution_count": 4,
   "metadata": {},
   "outputs": [
    {
     "data": {
      "text/html": [
       "<div>\n",
       "<style scoped>\n",
       "    .dataframe tbody tr th:only-of-type {\n",
       "        vertical-align: middle;\n",
       "    }\n",
       "\n",
       "    .dataframe tbody tr th {\n",
       "        vertical-align: top;\n",
       "    }\n",
       "\n",
       "    .dataframe thead th {\n",
       "        text-align: right;\n",
       "    }\n",
       "</style>\n",
       "<table border=\"1\" class=\"dataframe\">\n",
       "  <thead>\n",
       "    <tr style=\"text-align: right;\">\n",
       "      <th></th>\n",
       "      <th>S4248SM144NCEN</th>\n",
       "    </tr>\n",
       "    <tr>\n",
       "      <th>DATE</th>\n",
       "      <th></th>\n",
       "    </tr>\n",
       "  </thead>\n",
       "  <tbody>\n",
       "    <tr>\n",
       "      <th>1992-01-01</th>\n",
       "      <td>3459</td>\n",
       "    </tr>\n",
       "    <tr>\n",
       "      <th>1992-02-01</th>\n",
       "      <td>3458</td>\n",
       "    </tr>\n",
       "    <tr>\n",
       "      <th>1992-03-01</th>\n",
       "      <td>4002</td>\n",
       "    </tr>\n",
       "    <tr>\n",
       "      <th>1992-04-01</th>\n",
       "      <td>4564</td>\n",
       "    </tr>\n",
       "    <tr>\n",
       "      <th>1992-05-01</th>\n",
       "      <td>4221</td>\n",
       "    </tr>\n",
       "    <tr>\n",
       "      <th>...</th>\n",
       "      <td>...</td>\n",
       "    </tr>\n",
       "    <tr>\n",
       "      <th>2018-09-01</th>\n",
       "      <td>12396</td>\n",
       "    </tr>\n",
       "    <tr>\n",
       "      <th>2018-10-01</th>\n",
       "      <td>13914</td>\n",
       "    </tr>\n",
       "    <tr>\n",
       "      <th>2018-11-01</th>\n",
       "      <td>14174</td>\n",
       "    </tr>\n",
       "    <tr>\n",
       "      <th>2018-12-01</th>\n",
       "      <td>15504</td>\n",
       "    </tr>\n",
       "    <tr>\n",
       "      <th>2019-01-01</th>\n",
       "      <td>10718</td>\n",
       "    </tr>\n",
       "  </tbody>\n",
       "</table>\n",
       "<p>325 rows × 1 columns</p>\n",
       "</div>"
      ],
      "text/plain": [
       "            S4248SM144NCEN\n",
       "DATE                      \n",
       "1992-01-01            3459\n",
       "1992-02-01            3458\n",
       "1992-03-01            4002\n",
       "1992-04-01            4564\n",
       "1992-05-01            4221\n",
       "...                    ...\n",
       "2018-09-01           12396\n",
       "2018-10-01           13914\n",
       "2018-11-01           14174\n",
       "2018-12-01           15504\n",
       "2019-01-01           10718\n",
       "\n",
       "[325 rows x 1 columns]"
      ]
     },
     "execution_count": 4,
     "metadata": {},
     "output_type": "execute_result"
    }
   ],
   "source": [
    "df"
   ]
  },
  {
   "cell_type": "code",
   "execution_count": 5,
   "metadata": {},
   "outputs": [],
   "source": [
    "df = df.dropna()"
   ]
  },
  {
   "cell_type": "code",
   "execution_count": 6,
   "metadata": {},
   "outputs": [
    {
     "data": {
      "text/html": [
       "<div>\n",
       "<style scoped>\n",
       "    .dataframe tbody tr th:only-of-type {\n",
       "        vertical-align: middle;\n",
       "    }\n",
       "\n",
       "    .dataframe tbody tr th {\n",
       "        vertical-align: top;\n",
       "    }\n",
       "\n",
       "    .dataframe thead th {\n",
       "        text-align: right;\n",
       "    }\n",
       "</style>\n",
       "<table border=\"1\" class=\"dataframe\">\n",
       "  <thead>\n",
       "    <tr style=\"text-align: right;\">\n",
       "      <th></th>\n",
       "      <th>S4248SM144NCEN</th>\n",
       "    </tr>\n",
       "    <tr>\n",
       "      <th>DATE</th>\n",
       "      <th></th>\n",
       "    </tr>\n",
       "  </thead>\n",
       "  <tbody>\n",
       "    <tr>\n",
       "      <th>1992-01-01</th>\n",
       "      <td>3459</td>\n",
       "    </tr>\n",
       "    <tr>\n",
       "      <th>1992-02-01</th>\n",
       "      <td>3458</td>\n",
       "    </tr>\n",
       "    <tr>\n",
       "      <th>1992-03-01</th>\n",
       "      <td>4002</td>\n",
       "    </tr>\n",
       "    <tr>\n",
       "      <th>1992-04-01</th>\n",
       "      <td>4564</td>\n",
       "    </tr>\n",
       "    <tr>\n",
       "      <th>1992-05-01</th>\n",
       "      <td>4221</td>\n",
       "    </tr>\n",
       "    <tr>\n",
       "      <th>...</th>\n",
       "      <td>...</td>\n",
       "    </tr>\n",
       "    <tr>\n",
       "      <th>2018-09-01</th>\n",
       "      <td>12396</td>\n",
       "    </tr>\n",
       "    <tr>\n",
       "      <th>2018-10-01</th>\n",
       "      <td>13914</td>\n",
       "    </tr>\n",
       "    <tr>\n",
       "      <th>2018-11-01</th>\n",
       "      <td>14174</td>\n",
       "    </tr>\n",
       "    <tr>\n",
       "      <th>2018-12-01</th>\n",
       "      <td>15504</td>\n",
       "    </tr>\n",
       "    <tr>\n",
       "      <th>2019-01-01</th>\n",
       "      <td>10718</td>\n",
       "    </tr>\n",
       "  </tbody>\n",
       "</table>\n",
       "<p>325 rows × 1 columns</p>\n",
       "</div>"
      ],
      "text/plain": [
       "            S4248SM144NCEN\n",
       "DATE                      \n",
       "1992-01-01            3459\n",
       "1992-02-01            3458\n",
       "1992-03-01            4002\n",
       "1992-04-01            4564\n",
       "1992-05-01            4221\n",
       "...                    ...\n",
       "2018-09-01           12396\n",
       "2018-10-01           13914\n",
       "2018-11-01           14174\n",
       "2018-12-01           15504\n",
       "2019-01-01           10718\n",
       "\n",
       "[325 rows x 1 columns]"
      ]
     },
     "execution_count": 6,
     "metadata": {},
     "output_type": "execute_result"
    }
   ],
   "source": [
    "df"
   ]
  },
  {
   "cell_type": "code",
   "execution_count": 7,
   "metadata": {},
   "outputs": [
    {
     "data": {
      "text/plain": [
       "<AxesSubplot:xlabel='DATE'>"
      ]
     },
     "execution_count": 7,
     "metadata": {},
     "output_type": "execute_result"
    },
    {
     "data": {
      "image/png": "[encoded data removed]",
      "text/plain": [
       "<Figure size 864x432 with 1 Axes>"
      ]
     },
     "metadata": {
      "needs_background": "light"
     },
     "output_type": "display_data"
    }
   ],
   "source": [
    "df.plot(figsize=(12,6))"
   ]
  },
  {
   "cell_type": "code",
   "execution_count": 8,
   "metadata": {},
   "outputs": [],
   "source": [
    "y = df['S4248SM144NCEN'].values.astype('float')"
   ]
  },
  {
   "cell_type": "code",
   "execution_count": 9,
   "metadata": {},
   "outputs": [],
   "source": [
    "test_size = 12"
   ]
  },
  {
   "cell_type": "code",
   "execution_count": 10,
   "metadata": {},
   "outputs": [],
   "source": [
    "train_set = y[:-test_size]\n",
    "test_set = y[-test_size:]"
   ]
  },
  {
   "cell_type": "code",
   "execution_count": 11,
   "metadata": {},
   "outputs": [
    {
     "data": {
      "text/plain": [
       "array([10415., 12683., 11919., 14138., 14583., 12640., 14257., 12396.,\n",
       "       13914., 14174., 15504., 10718.])"
      ]
     },
     "execution_count": 11,
     "metadata": {},
     "output_type": "execute_result"
    }
   ],
   "source": [
    "test_set"
   ]
  },
  {
   "cell_type": "code",
   "execution_count": 12,
   "metadata": {},
   "outputs": [],
   "source": [
    "from sklearn.preprocessing import MinMaxScaler"
   ]
  },
  {
   "cell_type": "code",
   "execution_count": 13,
   "metadata": {},
   "outputs": [],
   "source": [
    "scaler = MinMaxScaler(feature_range=(-1,1))"
   ]
  },
  {
   "cell_type": "code",
   "execution_count": 14,
   "metadata": {},
   "outputs": [
    {
     "data": {
      "text/plain": [
       "MinMaxScaler(feature_range=(-1, 1))"
      ]
     },
     "execution_count": 14,
     "metadata": {},
     "output_type": "execute_result"
    }
   ],
   "source": [
    "scaler.fit(train_set.reshape(-1,1))"
   ]
  },
  {
   "cell_type": "code",
   "execution_count": 15,
   "metadata": {},
   "outputs": [],
   "source": [
    "train_norm = scaler.transform(train_set.reshape(-1,1))"
   ]
  },
  {
   "cell_type": "code",
   "execution_count": 16,
   "metadata": {},
   "outputs": [],
   "source": [
    "# len(y) - test_size - window_size"
   ]
  },
  {
   "cell_type": "code",
   "execution_count": 17,
   "metadata": {},
   "outputs": [],
   "source": [
    "train_norm = torch.FloatTensor(train_norm).view(-1)"
   ]
  },
  {
   "cell_type": "code",
   "execution_count": 18,
   "metadata": {},
   "outputs": [],
   "source": [
    "if use_CUDA:\n",
    "    train_norm = train_norm.cuda()"
   ]
  },
  {
   "cell_type": "code",
   "execution_count": 19,
   "metadata": {},
   "outputs": [],
   "source": [
    "window_size = 12"
   ]
  },
  {
   "cell_type": "code",
   "execution_count": 20,
   "metadata": {},
   "outputs": [],
   "source": [
    "def input_data(seq, ws):\n",
    "    out = []\n",
    "    L = len(seq)\n",
    "    \n",
    "    for i in range(L-ws):\n",
    "        window = seq[i:i+ws]\n",
    "        label = seq[i+ws:i+ws+1]\n",
    "        out.append((window, label))\n",
    "    \n",
    "    return out"
   ]
  },
  {
   "cell_type": "code",
   "execution_count": 21,
   "metadata": {},
   "outputs": [],
   "source": [
    "train_data = input_data(train_norm, window_size)"
   ]
  },
  {
   "cell_type": "code",
   "execution_count": 22,
   "metadata": {},
   "outputs": [],
   "source": [
    "class LSTMnetwork(nn.Module):\n",
    "    def __init__(self, input_size=1, hidden_size=200, out_size=1):\n",
    "        super().__init__()\n",
    "        self.hidden_size = hidden_size\n",
    "        \n",
    "        # Add an LSTM layer:\n",
    "        self.lstm = nn.LSTM(input_size,hidden_size)\n",
    "        \n",
    "        # Add a fully-connected layer:\n",
    "        self.linear = nn.Linear(hidden_size,out_size)\n",
    "        \n",
    "        # Initialize h0 and c0:\n",
    "        self.hidden = (torch.zeros(1,1,hidden_size),\n",
    "                       torch.zeros(1,1,hidden_size))\n",
    "    \n",
    "    def forward(self,seq):\n",
    "        lstm_out, self.hidden = self.lstm(\n",
    "            seq.view(len(seq), 1, -1), self.hidden)\n",
    "        pred = self.linear(lstm_out.view(len(seq),-1))\n",
    "        return pred[-1]   # we only care about the last prediction"
   ]
  },
  {
   "cell_type": "code",
   "execution_count": 24,
   "metadata": {},
   "outputs": [],
   "source": [
    "torch.manual_seed(101)\n",
    "\n",
    "model = LSTMnetwork().cuda()\n",
    "\n",
    "criterion = nn.MSELoss()\n",
    "optimizer = torch.optim.Adam(model.parameters(), lr=1e-3)"
   ]
  },
  {
   "cell_type": "code",
   "execution_count": 25,
   "metadata": {},
   "outputs": [
    {
     "data": {
      "text/plain": [
       "LSTMnetwork(\n",
       "  (lstm): LSTM(1, 200)\n",
       "  (linear): Linear(in_features=200, out_features=1, bias=True)\n",
       ")"
      ]
     },
     "execution_count": 25,
     "metadata": {},
     "output_type": "execute_result"
    }
   ],
   "source": [
    "model"
   ]
  },
  {
   "cell_type": "code",
   "execution_count": 27,
   "metadata": {},
   "outputs": [
    {
     "name": "stdout",
     "output_type": "stream",
     "text": [
      "Epoch: 1 Loss: 0.3978264033794403\n",
      "Epoch: 2 Loss: 0.3935987949371338\n",
      "Epoch: 3 Loss: 0.23170381784439087\n",
      "Epoch: 4 Loss: 0.4617188572883606\n",
      "Epoch: 5 Loss: 0.37591439485549927\n",
      "Epoch: 6 Loss: 0.37924638390541077\n",
      "Epoch: 7 Loss: 0.3701454699039459\n",
      "Epoch: 8 Loss: 0.17610806226730347\n",
      "Epoch: 9 Loss: 0.004956345539540052\n",
      "Epoch: 10 Loss: 0.014780072495341301\n",
      "Epoch: 11 Loss: 0.1647120714187622\n",
      "Epoch: 12 Loss: 0.3121860921382904\n",
      "Epoch: 13 Loss: 0.08934436738491058\n",
      "Epoch: 14 Loss: 0.261689692735672\n",
      "Epoch: 15 Loss: 0.10382933914661407\n",
      "Epoch: 16 Loss: 0.07612523436546326\n",
      "Epoch: 17 Loss: 0.04496688023209572\n",
      "Epoch: 18 Loss: 0.013684151694178581\n",
      "Epoch: 19 Loss: 0.006287694908678532\n",
      "Epoch: 20 Loss: 0.00011312722926959395\n",
      "Epoch: 21 Loss: 0.0020014001056551933\n",
      "Epoch: 22 Loss: 0.000966739549767226\n",
      "Epoch: 23 Loss: 0.001567760482430458\n",
      "Epoch: 24 Loss: 0.0006836032844148576\n",
      "Epoch: 25 Loss: 0.000801502144895494\n",
      "Epoch: 26 Loss: 0.0003560581826604903\n",
      "Epoch: 27 Loss: 0.0005191582604311407\n",
      "Epoch: 28 Loss: 0.0004386136424727738\n",
      "Epoch: 29 Loss: 0.0007277196855284274\n",
      "Epoch: 30 Loss: 0.0007734043756499887\n",
      "Epoch: 31 Loss: 0.0010971573647111654\n",
      "Epoch: 32 Loss: 0.0011478278320282698\n",
      "Epoch: 33 Loss: 0.00163940223865211\n",
      "Epoch: 34 Loss: 0.0012478454736992717\n",
      "Epoch: 35 Loss: 0.0016236243536695838\n",
      "Epoch: 36 Loss: 0.0014014753978699446\n",
      "Epoch: 37 Loss: 0.0010880579939112067\n",
      "Epoch: 38 Loss: 0.0006906227790750563\n",
      "Epoch: 39 Loss: 0.00039953802479431033\n",
      "Epoch: 40 Loss: 0.00032718456350266933\n",
      "Epoch: 41 Loss: 0.00013925474195275456\n",
      "Epoch: 42 Loss: 9.798160317586735e-05\n",
      "Epoch: 43 Loss: 3.714393460541032e-05\n",
      "Epoch: 44 Loss: 1.3214175851317123e-05\n",
      "Epoch: 45 Loss: 1.1148772216529323e-07\n",
      "Epoch: 46 Loss: 8.128328090606374e-07\n",
      "Epoch: 47 Loss: 2.174209112126846e-05\n",
      "Epoch: 48 Loss: 6.386967288563028e-05\n",
      "Epoch: 49 Loss: 0.0002167069324059412\n",
      "Epoch: 50 Loss: 0.00039507358451373875\n",
      "Epoch: 51 Loss: 0.0014173606177791953\n",
      "Epoch: 52 Loss: 0.0004835041181650013\n",
      "Epoch: 53 Loss: 0.0008723049541004002\n",
      "Epoch: 54 Loss: 0.0006579569890163839\n",
      "Epoch: 55 Loss: 0.002824336988851428\n",
      "Epoch: 56 Loss: 0.056262195110321045\n",
      "Epoch: 57 Loss: 0.004580629989504814\n",
      "Epoch: 58 Loss: 0.003285285783931613\n",
      "Epoch: 59 Loss: 0.0033495966345071793\n",
      "Epoch: 60 Loss: 0.001659028115682304\n",
      "Epoch: 61 Loss: 0.0018376446096226573\n",
      "Epoch: 62 Loss: 0.0017981677083298564\n",
      "Epoch: 63 Loss: 0.003039006143808365\n",
      "Epoch: 64 Loss: 0.0039892978966236115\n",
      "Epoch: 65 Loss: 0.0029572597704827785\n",
      "Epoch: 66 Loss: 0.004350483417510986\n",
      "Epoch: 67 Loss: 0.00416517211124301\n",
      "Epoch: 68 Loss: 0.004253975581377745\n",
      "Epoch: 69 Loss: 0.004060847219079733\n",
      "Epoch: 70 Loss: 0.0016154556069523096\n",
      "Epoch: 71 Loss: 0.005770399700850248\n",
      "Epoch: 72 Loss: 0.0052333069033920765\n",
      "Epoch: 73 Loss: 0.00334757543168962\n",
      "Epoch: 74 Loss: 0.0031800500582903624\n",
      "Epoch: 75 Loss: 0.003588701831176877\n",
      "Epoch: 76 Loss: 0.003703088965266943\n",
      "Epoch: 77 Loss: 0.0036199933383613825\n",
      "Epoch: 78 Loss: 0.00339216529391706\n",
      "Epoch: 79 Loss: 0.0031222300603985786\n",
      "Epoch: 80 Loss: 0.0028241723775863647\n",
      "Epoch: 81 Loss: 0.0022283424623310566\n",
      "Epoch: 82 Loss: 0.0016010551480576396\n",
      "Epoch: 83 Loss: 0.0016365810297429562\n",
      "Epoch: 84 Loss: 0.00025284913135692477\n",
      "Epoch: 85 Loss: 0.00042212940752506256\n",
      "Epoch: 86 Loss: 0.0012811771593987942\n",
      "Epoch: 87 Loss: 0.001069185440428555\n",
      "Epoch: 88 Loss: 5.2385308663360775e-05\n",
      "Epoch: 89 Loss: 0.005527236498892307\n",
      "Epoch: 90 Loss: 0.000111591158201918\n",
      "Epoch: 91 Loss: 0.0003957462031394243\n",
      "Epoch: 92 Loss: 6.424116872949526e-05\n",
      "Epoch: 93 Loss: 0.0002667666121851653\n",
      "Epoch: 94 Loss: 0.0002406354615231976\n",
      "Epoch: 95 Loss: 0.0015617376193404198\n",
      "Epoch: 96 Loss: 3.291516122772009e-06\n",
      "Epoch: 97 Loss: 0.0010273881489410996\n",
      "Epoch: 98 Loss: 2.09079898922937e-05\n",
      "Epoch: 99 Loss: 0.00020500930259004235\n",
      "Epoch: 100 Loss: 0.00030073957168497145\n",
      "Epoch: 101 Loss: 0.0037428850773721933\n",
      "Epoch: 102 Loss: 6.328818562906235e-05\n",
      "Epoch: 103 Loss: 0.005056214984506369\n",
      "Epoch: 104 Loss: 7.18186470294313e-07\n",
      "Epoch: 105 Loss: 3.789823313127272e-05\n",
      "Epoch: 106 Loss: 9.152663551503792e-05\n",
      "Epoch: 107 Loss: 0.0001542546960990876\n",
      "Epoch: 108 Loss: 0.00029770832043141127\n",
      "Epoch: 109 Loss: 6.90171800670214e-05\n",
      "Epoch: 110 Loss: 0.00012314289051573724\n",
      "Epoch: 111 Loss: 0.003423273330554366\n",
      "Epoch: 112 Loss: 0.003937078639864922\n",
      "Epoch: 113 Loss: 3.1599338399246335e-05\n",
      "Epoch: 114 Loss: 0.0031283062417060137\n",
      "Epoch: 115 Loss: 0.0015537661965936422\n",
      "Epoch: 116 Loss: 0.00010253953951178119\n",
      "Epoch: 117 Loss: 4.323181201471016e-06\n",
      "Epoch: 118 Loss: 3.613518856582232e-05\n",
      "Epoch: 119 Loss: 7.111447075658361e-07\n",
      "Epoch: 120 Loss: 2.1516931155929342e-05\n",
      "Epoch: 121 Loss: 7.220047791633988e-06\n",
      "Epoch: 122 Loss: 1.2162448683739058e-06\n",
      "Epoch: 123 Loss: 7.951336010592058e-05\n",
      "Epoch: 124 Loss: 0.00010731869406299666\n",
      "Epoch: 125 Loss: 1.815734322008211e-05\n",
      "Epoch: 126 Loss: 0.0032386446837335825\n",
      "Epoch: 127 Loss: 0.0003782773273997009\n",
      "Epoch: 128 Loss: 3.198801323378575e-06\n",
      "Epoch: 129 Loss: 5.444022826850414e-05\n",
      "Epoch: 130 Loss: 3.5138862131134374e-06\n",
      "Epoch: 131 Loss: 0.0006472732056863606\n",
      "Epoch: 132 Loss: 8.297384192701429e-05\n",
      "Epoch: 133 Loss: 4.450149936019443e-05\n",
      "Epoch: 134 Loss: 9.522664612404697e-08\n",
      "Epoch: 135 Loss: 3.75957142750849e-06\n",
      "Epoch: 136 Loss: 6.442307494580746e-05\n",
      "Epoch: 137 Loss: 4.025897942483425e-05\n",
      "Epoch: 138 Loss: 2.4084909455268644e-05\n",
      "Epoch: 139 Loss: 2.8532056148833362e-06\n",
      "Epoch: 140 Loss: 0.00018747839203570038\n",
      "Epoch: 141 Loss: 0.0006053274846635759\n",
      "Epoch: 142 Loss: 2.9268994694575667e-05\n",
      "Epoch: 143 Loss: 3.9040634874254465e-05\n",
      "Epoch: 144 Loss: 0.007399247959256172\n",
      "Epoch: 145 Loss: 0.00012005640019197017\n",
      "Epoch: 146 Loss: 2.796977298658021e-07\n",
      "Epoch: 147 Loss: 0.0040605016984045506\n",
      "Epoch: 148 Loss: 0.004729605745524168\n",
      "Epoch: 149 Loss: 0.003247648011893034\n",
      "Epoch: 150 Loss: 2.6700737976170785e-07\n",
      "Total time: 1.084994133313497mins\n"
     ]
    }
   ],
   "source": [
    "epochs = 150\n",
    "\n",
    "import time \n",
    "start_time = time.time()\n",
    "\n",
    "\n",
    "for epoch in range(epochs):\n",
    "    for seq, y_train in train_data:\n",
    "        optimizer.zero_grad()\n",
    "        model.hidden = (torch.zeros(1,1,model.hidden_size).cuda(),\n",
    "                       torch.zeros(1,1,model.hidden_size).cuda())\n",
    "        y_pred = model(seq)\n",
    "        loss = criterion(y_pred, y_train)\n",
    "        loss.backward()\n",
    "        optimizer.step()\n",
    "        \n",
    "    print(f\"Epoch: {epoch+1} Loss: {loss.item()}\")\n",
    "\n",
    "total_time = time.time() - start_time\n",
    "print(f\"Total time: {total_time/60}mins\")"
   ]
  },
  {
   "cell_type": "code",
   "execution_count": 29,
   "metadata": {},
   "outputs": [],
   "source": [
    "future = 12\n",
    "\n",
    "preds = train_norm[-window_size:].tolist()\n",
    "\n",
    "model.eval()\n",
    "\n",
    "for i in range(future):\n",
    "    seq = torch.FloatTensor(preds[-window_size:]).cuda()\n",
    "    \n",
    "    with torch.no_grad():\n",
    "        model.hidden = (torch.zeros(1,1,model.hidden_size).cuda(),\n",
    "                       torch.zeros(1,1,model.hidden_size).cuda())\n",
    "        preds.append(model(seq).item())"
   ]
  },
  {
   "cell_type": "code",
   "execution_count": 30,
   "metadata": {},
   "outputs": [
    {
     "data": {
      "text/plain": [
       "[0.436684250831604,\n",
       " 0.6197435259819031,\n",
       " 0.5966050028800964,\n",
       " 0.8834457397460938,\n",
       " 0.9653798937797546,\n",
       " 0.5207940340042114,\n",
       " 0.927636444568634,\n",
       " 0.5086572766304016,\n",
       " 0.7857043743133545,\n",
       " 0.8142537474632263,\n",
       " 0.9221154451370239,\n",
       " 0.26953691244125366]"
      ]
     },
     "execution_count": 30,
     "metadata": {},
     "output_type": "execute_result"
    }
   ],
   "source": [
    "preds[window_size:]"
   ]
  },
  {
   "cell_type": "code",
   "execution_count": 32,
   "metadata": {},
   "outputs": [],
   "source": [
    "true_predictions = scaler.inverse_transform(np.array(preds[window_size:]).reshape(-1,1))"
   ]
  },
  {
   "cell_type": "code",
   "execution_count": 34,
   "metadata": {},
   "outputs": [
    {
     "data": {
      "text/plain": [
       "array([[11434.88452524],\n",
       "       [12505.68975523],\n",
       "       [12370.34096435],\n",
       "       [14048.21585464],\n",
       "       [14527.48968866],\n",
       "       [11926.88470191],\n",
       "       [14306.7093825 ],\n",
       "       [11855.89073965],\n",
       "       [13476.47773755],\n",
       "       [13643.47729579],\n",
       "       [14274.41429633],\n",
       "       [10457.15616933]])"
      ]
     },
     "execution_count": 34,
     "metadata": {},
     "output_type": "execute_result"
    }
   ],
   "source": [
    "true_predictionsictions"
   ]
  },
  {
   "cell_type": "code",
   "execution_count": 33,
   "metadata": {},
   "outputs": [
    {
     "data": {
      "text/plain": [
       "DATE\n",
       "2018-02-01    10415\n",
       "2018-03-01    12683\n",
       "2018-04-01    11919\n",
       "2018-05-01    14138\n",
       "2018-06-01    14583\n",
       "2018-07-01    12640\n",
       "2018-08-01    14257\n",
       "2018-09-01    12396\n",
       "2018-10-01    13914\n",
       "2018-11-01    14174\n",
       "2018-12-01    15504\n",
       "2019-01-01    10718\n",
       "Name: S4248SM144NCEN, dtype: int64"
      ]
     },
     "execution_count": 33,
     "metadata": {},
     "output_type": "execute_result"
    }
   ],
   "source": [
    "df['S4248SM144NCEN'][-12:]"
   ]
  },
  {
   "cell_type": "code",
   "execution_count": 36,
   "metadata": {},
   "outputs": [],
   "source": [
    "x = np.arange('2018-02-01', '2019-02-01', dtype='datetime64[M]')"
   ]
  },
  {
   "cell_type": "code",
   "execution_count": 37,
   "metadata": {},
   "outputs": [
    {
     "data": {
      "text/plain": [
       "array(['2018-02', '2018-03', '2018-04', '2018-05', '2018-06', '2018-07',\n",
       "       '2018-08', '2018-09', '2018-10', '2018-11', '2018-12', '2019-01'],\n",
       "      dtype='datetime64[M]')"
      ]
     },
     "execution_count": 37,
     "metadata": {},
     "output_type": "execute_result"
    }
   ],
   "source": [
    "x"
   ]
  },
  {
   "cell_type": "code",
   "execution_count": 40,
   "metadata": {},
   "outputs": [
    {
     "data": {
      "image/png": "[encoded data removed]",
      "text/plain": [
       "<Figure size 864x288 with 1 Axes>"
      ]
     },
     "metadata": {
      "needs_background": "light"
     },
     "output_type": "display_data"
    }
   ],
   "source": [
    "plt.figure(figsize=(12,4))\n",
    "plt.grid(True)\n",
    "plt.autoscale(axis='x', tight=True)\n",
    "plt.plot(df['S4248SM144NCEN']['2017-01-01':])\n",
    "plt.plot(x, true_predictions)\n",
    "plt.show()"
   ]
  }
 ],
 "metadata": {
  "kernelspec": {
   "display_name": "Python 3",
   "language": "python",
   "name": "python3"
  },
  "language_info": {
   "codemirror_mode": {
    "name": "ipython",
    "version": 3
   },
   "file_extension": ".py",
   "mimetype": "text/x-python",
   "name": "python",
   "nbconvert_exporter": "python",
   "pygments_lexer": "ipython3",
   "version": "3.8.5"
  }
 },
 "nbformat": 4,
 "nbformat_minor": 4
}
