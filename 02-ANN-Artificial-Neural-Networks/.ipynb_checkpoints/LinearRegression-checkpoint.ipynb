{
 "cells": [
  {
   "cell_type": "code",
   "execution_count": 1,
   "metadata": {},
   "outputs": [],
   "source": [
    "import torch\n",
    "import torch.nn as nn\n",
    "import numpy as np\n",
    "import matplotlib.pyplot as plt"
   ]
  },
  {
   "cell_type": "code",
   "execution_count": 2,
   "metadata": {},
   "outputs": [],
   "source": [
    "x = torch.linspace(1, 50, 50).reshape(-1,1)"
   ]
  },
  {
   "cell_type": "code",
   "execution_count": 3,
   "metadata": {},
   "outputs": [
    {
     "name": "stdout",
     "output_type": "stream",
     "text": [
      "tensor([[ 1.],\n",
      "        [ 2.],\n",
      "        [ 3.],\n",
      "        [ 4.],\n",
      "        [ 5.],\n",
      "        [ 6.],\n",
      "        [ 7.],\n",
      "        [ 8.],\n",
      "        [ 9.],\n",
      "        [10.],\n",
      "        [11.],\n",
      "        [12.],\n",
      "        [13.],\n",
      "        [14.],\n",
      "        [15.],\n",
      "        [16.],\n",
      "        [17.],\n",
      "        [18.],\n",
      "        [19.],\n",
      "        [20.],\n",
      "        [21.],\n",
      "        [22.],\n",
      "        [23.],\n",
      "        [24.],\n",
      "        [25.],\n",
      "        [26.],\n",
      "        [27.],\n",
      "        [28.],\n",
      "        [29.],\n",
      "        [30.],\n",
      "        [31.],\n",
      "        [32.],\n",
      "        [33.],\n",
      "        [34.],\n",
      "        [35.],\n",
      "        [36.],\n",
      "        [37.],\n",
      "        [38.],\n",
      "        [39.],\n",
      "        [40.],\n",
      "        [41.],\n",
      "        [42.],\n",
      "        [43.],\n",
      "        [44.],\n",
      "        [45.],\n",
      "        [46.],\n",
      "        [47.],\n",
      "        [48.],\n",
      "        [49.],\n",
      "        [50.]])\n"
     ]
    }
   ],
   "source": [
    "print(x)"
   ]
  },
  {
   "cell_type": "code",
   "execution_count": 4,
   "metadata": {},
   "outputs": [
    {
     "name": "stdout",
     "output_type": "stream",
     "text": [
      "tensor([[ 2.],\n",
      "        [ 7.],\n",
      "        [ 2.],\n",
      "        [ 6.],\n",
      "        [ 2.],\n",
      "        [-4.],\n",
      "        [ 2.],\n",
      "        [-5.],\n",
      "        [ 4.],\n",
      "        [ 1.],\n",
      "        [ 2.],\n",
      "        [ 3.],\n",
      "        [ 1.],\n",
      "        [-8.],\n",
      "        [ 5.],\n",
      "        [ 5.],\n",
      "        [-6.],\n",
      "        [ 0.],\n",
      "        [-7.],\n",
      "        [-8.],\n",
      "        [-3.],\n",
      "        [-1.],\n",
      "        [ 2.],\n",
      "        [-6.],\n",
      "        [-3.],\n",
      "        [ 3.],\n",
      "        [ 2.],\n",
      "        [ 3.],\n",
      "        [ 4.],\n",
      "        [ 5.],\n",
      "        [ 1.],\n",
      "        [ 7.],\n",
      "        [ 6.],\n",
      "        [-1.],\n",
      "        [-6.],\n",
      "        [-5.],\n",
      "        [-3.],\n",
      "        [ 7.],\n",
      "        [ 0.],\n",
      "        [ 8.],\n",
      "        [-1.],\n",
      "        [-2.],\n",
      "        [ 2.],\n",
      "        [-8.],\n",
      "        [-1.],\n",
      "        [ 6.],\n",
      "        [-8.],\n",
      "        [-3.],\n",
      "        [-7.],\n",
      "        [-2.]])\n"
     ]
    }
   ],
   "source": [
    "torch.manual_seed(71)\n",
    "e = torch.randint(-8,9,(50, 1), dtype=torch.float32)\n",
    "print(e)"
   ]
  },
  {
   "cell_type": "code",
   "execution_count": 5,
   "metadata": {},
   "outputs": [],
   "source": [
    "y = 2*x+1+e"
   ]
  },
  {
   "cell_type": "code",
   "execution_count": 6,
   "metadata": {},
   "outputs": [
    {
     "name": "stdout",
     "output_type": "stream",
     "text": [
      "torch.Size([50, 1])\n"
     ]
    }
   ],
   "source": [
    "print(y.shape)"
   ]
  },
  {
   "cell_type": "code",
   "execution_count": 7,
   "metadata": {},
   "outputs": [
    {
     "data": {
      "text/plain": [
       "<matplotlib.collections.PathCollection at 0x7f10b0863640>"
      ]
     },
     "execution_count": 7,
     "metadata": {},
     "output_type": "execute_result"
    },
    {
     "data": {
      "image/png": "[encoded data removed]",
      "text/plain": [
       "<Figure size 432x288 with 1 Axes>"
      ]
     },
     "metadata": {
      "needs_background": "light"
     },
     "output_type": "display_data"
    }
   ],
   "source": [
    "plt.title(\"Generated lin func with some noise\")\n",
    "plt.scatter(x.numpy(), y.numpy())"
   ]
  },
  {
   "cell_type": "code",
   "execution_count": 8,
   "metadata": {},
   "outputs": [
    {
     "name": "stdout",
     "output_type": "stream",
     "text": [
      "Parameter containing:\n",
      "tensor([[0.1060]], requires_grad=True)\n",
      "Parameter containing:\n",
      "tensor([0.9638], requires_grad=True)\n"
     ]
    }
   ],
   "source": [
    "torch.manual_seed(59)\n",
    "\n",
    "model = nn.Linear(in_features=1, out_features=1)\n",
    "\n",
    "print(model.weight)\n",
    "print(model.bias)"
   ]
  },
  {
   "cell_type": "code",
   "execution_count": 9,
   "metadata": {},
   "outputs": [],
   "source": [
    "class Model(nn.Module):\n",
    "    def __init__(self, in_features, out_features):\n",
    "        super().__init__()\n",
    "        self.linear = nn.Linear(in_features, out_features)\n",
    "        \n",
    "    def forward(self, x):\n",
    "        y_pred = self.linear(x)\n",
    "        return y_pred"
   ]
  },
  {
   "cell_type": "code",
   "execution_count": 10,
   "metadata": {},
   "outputs": [
    {
     "name": "stdout",
     "output_type": "stream",
     "text": [
      "Parameter containing:\n",
      "tensor([[0.1060]], requires_grad=True)\n",
      "Parameter containing:\n",
      "tensor([0.9638], requires_grad=True)\n"
     ]
    }
   ],
   "source": [
    "torch.manual_seed(59)\n",
    "\n",
    "model = Model(1,1)\n",
    "\n",
    "print(model.linear.weight)\n",
    "print(model.linear.bias)"
   ]
  },
  {
   "cell_type": "code",
   "execution_count": 11,
   "metadata": {},
   "outputs": [
    {
     "name": "stdout",
     "output_type": "stream",
     "text": [
      "linear.weight \t 0.10597813129425049\n",
      "linear.bias \t 0.9637961387634277\n"
     ]
    }
   ],
   "source": [
    "for name,param in model.named_parameters():\n",
    "    print(name, '\\t', param.item())"
   ]
  },
  {
   "cell_type": "code",
   "execution_count": 12,
   "metadata": {},
   "outputs": [
    {
     "name": "stdout",
     "output_type": "stream",
     "text": [
      "tensor([1.1758], grad_fn=<AddBackward0>)\n"
     ]
    }
   ],
   "source": [
    "X = torch.tensor([2.0])\n",
    "print(model.forward(X))"
   ]
  },
  {
   "cell_type": "code",
   "execution_count": 13,
   "metadata": {},
   "outputs": [
    {
     "data": {
      "text/plain": [
       "array([ 0.        ,  1.02040816,  2.04081633,  3.06122449,  4.08163265,\n",
       "        5.10204082,  6.12244898,  7.14285714,  8.16326531,  9.18367347,\n",
       "       10.20408163, 11.2244898 , 12.24489796, 13.26530612, 14.28571429,\n",
       "       15.30612245, 16.32653061, 17.34693878, 18.36734694, 19.3877551 ,\n",
       "       20.40816327, 21.42857143, 22.44897959, 23.46938776, 24.48979592,\n",
       "       25.51020408, 26.53061224, 27.55102041, 28.57142857, 29.59183673,\n",
       "       30.6122449 , 31.63265306, 32.65306122, 33.67346939, 34.69387755,\n",
       "       35.71428571, 36.73469388, 37.75510204, 38.7755102 , 39.79591837,\n",
       "       40.81632653, 41.83673469, 42.85714286, 43.87755102, 44.89795918,\n",
       "       45.91836735, 46.93877551, 47.95918367, 48.97959184, 50.        ])"
      ]
     },
     "execution_count": 13,
     "metadata": {},
     "output_type": "execute_result"
    }
   ],
   "source": [
    "x1 = np.linspace(0.0, 50.0, 50)\n",
    "x1"
   ]
  },
  {
   "cell_type": "code",
   "execution_count": 14,
   "metadata": {},
   "outputs": [],
   "source": [
    "w1 = 0.1059\n",
    "b1 = 0.9637\n",
    "\n",
    "y1 = w1*x1 + b1"
   ]
  },
  {
   "cell_type": "code",
   "execution_count": 15,
   "metadata": {},
   "outputs": [
    {
     "data": {
      "text/plain": [
       "array([0.9637    , 1.07176122, 1.17982245, 1.28788367, 1.3959449 ,\n",
       "       1.50400612, 1.61206735, 1.72012857, 1.8281898 , 1.93625102,\n",
       "       2.04431224, 2.15237347, 2.26043469, 2.36849592, 2.47655714,\n",
       "       2.58461837, 2.69267959, 2.80074082, 2.90880204, 3.01686327,\n",
       "       3.12492449, 3.23298571, 3.34104694, 3.44910816, 3.55716939,\n",
       "       3.66523061, 3.77329184, 3.88135306, 3.98941429, 4.09747551,\n",
       "       4.20553673, 4.31359796, 4.42165918, 4.52972041, 4.63778163,\n",
       "       4.74584286, 4.85390408, 4.96196531, 5.07002653, 5.17808776,\n",
       "       5.28614898, 5.3942102 , 5.50227143, 5.61033265, 5.71839388,\n",
       "       5.8264551 , 5.93451633, 6.04257755, 6.15063878, 6.2587    ])"
      ]
     },
     "execution_count": 15,
     "metadata": {},
     "output_type": "execute_result"
    }
   ],
   "source": [
    "y1"
   ]
  },
  {
   "cell_type": "code",
   "execution_count": 16,
   "metadata": {},
   "outputs": [
    {
     "data": {
      "text/plain": [
       "[<matplotlib.lines.Line2D at 0x7f10ae6c3580>]"
      ]
     },
     "execution_count": 16,
     "metadata": {},
     "output_type": "execute_result"
    },
    {
     "data": {
      "image/png": "[encoded data removed]",
      "text/plain": [
       "<Figure size 432x288 with 1 Axes>"
      ]
     },
     "metadata": {
      "needs_background": "light"
     },
     "output_type": "display_data"
    }
   ],
   "source": [
    "plt.scatter(x.numpy(), y.numpy())\n",
    "plt.plot(x1,y1, 'r')"
   ]
  },
  {
   "cell_type": "code",
   "execution_count": 17,
   "metadata": {},
   "outputs": [],
   "source": [
    "criterion = nn.MSELoss()"
   ]
  },
  {
   "cell_type": "code",
   "execution_count": 18,
   "metadata": {},
   "outputs": [],
   "source": [
    "optimizer = torch.optim.SGD(model.parameters(), lr=1e-3, momentum=0.9)"
   ]
  },
  {
   "cell_type": "code",
   "execution_count": 19,
   "metadata": {},
   "outputs": [
    {
     "name": "stdout",
     "output_type": "stream",
     "text": [
      "Epoch 1 loss 3057.216796875 weight 0.10597813129425049 bias 0.9637961387634277\n",
      "Epoch 2 loss 1588.5306396484375 weight 3.334900140762329 bias 1.0604636669158936\n",
      "Epoch 3 loss 3244.615234375 weight 3.9208626747131348 bias 1.0792635679244995\n",
      "Epoch 4 loss 662.5842895507812 weight 1.1211044788360596 bias 0.9980610013008118\n",
      "Epoch 5 loss 3123.031982421875 weight 0.08552447706460953 bias 0.9698061943054199\n",
      "Epoch 6 loss 182.04483032226562 weight 2.4172370433807373 bias 1.042075514793396\n",
      "Epoch 7 loss 2769.7919921875 weight 3.7722764015197754 bias 1.085754632949829\n",
      "Epoch 8 loss 24.695791244506836 weight 1.9194797277450562 bias 1.034508228302002\n",
      "Epoch 9 loss 2280.2529296875 weight 0.36349600553512573 bias 0.9924240112304688\n",
      "Epoch 10 loss 68.85305786132812 weight 1.7484142780303955 bias 1.0380250215530396\n",
      "Epoch 11 loss 1745.2393798828125 weight 3.399914026260376 bias 1.0918208360671997\n",
      "Epoch 12 loss 210.32440185546875 weight 2.4529685974121094 bias 1.0686577558517456\n",
      "Epoch 13 loss 1237.260009765625 weight 0.7945091724395752 bias 1.0245722532272339\n",
      "Epoch 14 loss 371.1438293457031 weight 1.345510482788086 bias 1.0463262796401978\n",
      "Epoch 15 loss 804.5435180664062 weight 2.93784761428833 bias 1.0991911888122559\n",
      "Epoch 16 loss 501.5130920410156 weight 2.7306478023529053 bias 1.0987409353256226\n",
      "Epoch 17 loss 471.065185546875 weight 1.2596502304077148 bias 1.0608751773834229\n",
      "Epoch 18 loss 576.940185546875 weight 1.1788684129714966 bias 1.064432144165039\n",
      "Epoch 19 loss 240.46908569335938 weight 2.4878015518188477 bias 1.1093822717666626\n",
      "Epoch 20 loss 592.6328735351562 weight 2.7977476119995117 bias 1.124740719795227\n",
      "Epoch 21 loss 101.89839935302734 weight 1.6756445169448853 bias 1.0976287126541138\n",
      "Epoch 22 loss 556.9205932617188 weight 1.1927311420440674 bias 1.0895748138427734\n",
      "Epoch 23 loss 36.165218353271484 weight 2.114661455154419 bias 1.123317837715149\n",
      "Epoch 24 loss 485.02569580078125 weight 2.716275691986084 bias 1.1475921869277954\n",
      "Epoch 25 loss 21.16973114013672 weight 1.9953960180282593 bias 1.1326138973236084\n",
      "Epoch 26 loss 394.00164794921875 weight 1.3227859735488892 bias 1.119102954864502\n",
      "Epoch 27 loss 35.9772834777832 weight 1.8491791486740112 bias 1.1412428617477417\n",
      "Epoch 28 loss 299.19647216796875 weight 2.549729108810425 bias 1.1685781478881836\n",
      "Epoch 29 loss 63.374900817871094 weight 2.2027816772460938 bias 1.164806604385376\n",
      "Epoch 30 loss 212.25070190429688 weight 1.5089876651763916 bias 1.150740623474121\n",
      "Epoch 31 loss 91.02623748779297 weight 1.6949933767318726 bias 1.1628214120864868\n",
      "Epoch 32 loss 140.39645385742188 weight 2.3528311252593994 bias 1.1889238357543945\n",
      "Epoch 33 loss 111.51995849609375 weight 2.304478883743286 bias 1.194043755531311\n",
      "Epoch 34 loss 86.71002197265625 weight 1.7033151388168335 bias 1.1827352046966553\n",
      "Epoch 35 loss 121.67716979980469 weight 1.6373963356018066 bias 1.187322974205017\n",
      "Epoch 36 loss 50.94526290893555 weight 2.1661462783813477 bias 1.209570050239563\n",
      "Epoch 37 loss 121.47341918945312 weight 2.3210999965667725 bias 1.2206999063491821\n",
      "Epoch 38 loss 30.614635467529297 weight 1.8730138540267944 bias 1.2138992547988892\n",
      "Epoch 39 loss 112.86707305908203 weight 1.651902675628662 bias 1.213827133178711\n",
      "Epoch 40 loss 22.060352325439453 weight 2.0147206783294678 bias 1.231087565422058\n",
      "Epoch 41 loss 98.74433898925781 weight 2.27923583984375 bias 1.2454090118408203\n",
      "Epoch 42 loss 21.353506088256836 weight 2.000375986099243 bias 1.2435665130615234\n",
      "Epoch 43 loss 82.09782409667969 weight 1.7113745212554932 bias 1.2414019107818604\n",
      "Epoch 44 loss 24.937484741210938 weight 1.909571647644043 bias 1.2536908388137817\n",
      "Epoch 45 loss 65.48206329345703 weight 2.2053163051605225 bias 1.268855333328247\n",
      "Epoch 46 loss 30.00318145751953 weight 2.080286741256714 bias 1.2714945077896118\n",
      "Epoch 47 loss 50.733673095703125 weight 1.7911016941070557 bias 1.269232153892517\n",
      "Epoch 48 loss 34.62859344482422 weight 1.8508225679397583 bias 1.2773114442825317\n",
      "Epoch 49 loss 38.90457534790039 weight 2.1216061115264893 bias 1.2916362285614014\n",
      "Epoch 50 loss 37.7406120300293 weight 2.116680145263672 bias 1.297743320465088\n"
     ]
    }
   ],
   "source": [
    "EPOCHS = 50\n",
    "losses = []\n",
    "\n",
    "for epoch in range(EPOCHS):\n",
    "    epoch +=1\n",
    "    \n",
    "    #prediction forward pass\n",
    "    y_pred = model.forward(x)\n",
    "    \n",
    "    #calculate error\n",
    "    loss = criterion(y_pred,y)\n",
    "    \n",
    "    losses.append(loss)\n",
    "    \n",
    "    print(f\"Epoch {epoch} loss {loss.item()} weight {model.linear.weight.item()} bias {model.linear.bias.item()}\")\n",
    "    \n",
    "    optimizer.zero_grad()\n",
    "    \n",
    "    loss.backward()\n",
    "    optimizer.step()"
   ]
  },
  {
   "cell_type": "code",
   "execution_count": 21,
   "metadata": {},
   "outputs": [
    {
     "data": {
      "text/plain": [
       "Text(0.5, 0, 'Epochs')"
      ]
     },
     "execution_count": 21,
     "metadata": {},
     "output_type": "execute_result"
    },
    {
     "data": {
      "image/png": "[encoded data removed]",
      "text/plain": [
       "<Figure size 432x288 with 1 Axes>"
      ]
     },
     "metadata": {
      "needs_background": "light"
     },
     "output_type": "display_data"
    }
   ],
   "source": [
    "plt.plot(range(EPOCHS), losses)\n",
    "plt.ylabel('MSE LOSS')\n",
    "plt.xlabel('Epochs')"
   ]
  },
  {
   "cell_type": "code",
   "execution_count": 22,
   "metadata": {},
   "outputs": [],
   "source": [
    "s = np.linspace(0.0, 50.0, 50)\n",
    "current_weight = model.linear.weight.item()\n",
    "current_bias = model.linear.bias.item()\n",
    "\n",
    "predicted_y = current_weight*s + current_bias"
   ]
  },
  {
   "cell_type": "code",
   "execution_count": 23,
   "metadata": {},
   "outputs": [
    {
     "data": {
      "text/plain": [
       "array([ 1.29669356,  3.20665483,  5.11661609,  7.02657735,  8.93653861,\n",
       "       10.84649988, 12.75646114, 14.6664224 , 16.57638366, 18.48634493,\n",
       "       20.39630619, 22.30626745, 24.21622871, 26.12618998, 28.03615124,\n",
       "       29.9461125 , 31.85607376, 33.76603503, 35.67599629, 37.58595755,\n",
       "       39.49591881, 41.40588008, 43.31584134, 45.2258026 , 47.13576386,\n",
       "       49.04572513, 50.95568639, 52.86564765, 54.77560891, 56.68557018,\n",
       "       58.59553144, 60.5054927 , 62.41545396, 64.32541523, 66.23537649,\n",
       "       68.14533775, 70.05529901, 71.96526028, 73.87522154, 75.7851828 ,\n",
       "       77.69514406, 79.60510533, 81.51506659, 83.42502785, 85.33498911,\n",
       "       87.24495038, 89.15491164, 91.0648729 , 92.97483416, 94.88479543])"
      ]
     },
     "execution_count": 23,
     "metadata": {},
     "output_type": "execute_result"
    }
   ],
   "source": [
    "predicted_y"
   ]
  },
  {
   "cell_type": "code",
   "execution_count": 24,
   "metadata": {},
   "outputs": [
    {
     "data": {
      "text/plain": [
       "[<matplotlib.lines.Line2D at 0x7f10a5fd0e80>]"
      ]
     },
     "execution_count": 24,
     "metadata": {},
     "output_type": "execute_result"
    },
    {
     "data": {
      "image/png": "[encoded data removed]",
      "text/plain": [
       "<Figure size 432x288 with 1 Axes>"
      ]
     },
     "metadata": {
      "needs_background": "light"
     },
     "output_type": "display_data"
    }
   ],
   "source": [
    "plt.scatter(x.numpy(), y.numpy())\n",
    "plt.plot(s, predicted_y, 'r')"
   ]
  }
 ],
 "metadata": {
  "kernelspec": {
   "display_name": "Python 3",
   "language": "python",
   "name": "python3"
  },
  "language_info": {
   "codemirror_mode": {
    "name": "ipython",
    "version": 3
   },
   "file_extension": ".py",
   "mimetype": "text/x-python",
   "name": "python",
   "nbconvert_exporter": "python",
   "pygments_lexer": "ipython3",
   "version": "3.8.5"
  }
 },
 "nbformat": 4,
 "nbformat_minor": 4
}
